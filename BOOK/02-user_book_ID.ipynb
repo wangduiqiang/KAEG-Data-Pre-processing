{
 "cells": [
  {
   "cell_type": "code",
   "execution_count": 1,
   "id": "c45de823",
   "metadata": {},
   "outputs": [],
   "source": [
    "import numpy as np\n",
    "import pandas as pd"
   ]
  },
  {
   "cell_type": "code",
   "execution_count": 2,
   "id": "6aa594f7",
   "metadata": {},
   "outputs": [
    {
     "name": "stderr",
     "output_type": "stream",
     "text": [
      "D:\\Programs\\envs\\pytorch\\lib\\site-packages\\IPython\\core\\interactiveshell.py:3072: DtypeWarning: Columns (3) have mixed types.Specify dtype option on import or set low_memory=False.\n",
      "  interactivity=interactivity, compiler=compiler, result=result)\n"
     ]
    }
   ],
   "source": [
    "Books = pd.read_csv(\"./Book_data/new_data/Books.csv\")\n",
    "Users = pd.read_csv(\"./Book_data/new_data/Users.csv\")\n",
    "Ratings = pd.read_csv(\"./Book_data/new_data/Ratings.csv\")"
   ]
  },
  {
   "cell_type": "code",
   "execution_count": 3,
   "id": "2c54514b",
   "metadata": {},
   "outputs": [],
   "source": [
    "#  将文件的ID以字典的形式换成数字\n",
    "def replaceID_Num(rel_data, colum):\n",
    "    id_n = {}\n",
    "    count = 0\n",
    "    for id in rel_data[colum]:\n",
    "        if id in id_n:\n",
    "            continue\n",
    "        else:\n",
    "            id_n[id] =count\n",
    "            count += 1\n",
    "    return id_n"
   ]
  },
  {
   "cell_type": "code",
   "execution_count": 4,
   "id": "3a52660e",
   "metadata": {},
   "outputs": [],
   "source": [
    "# 找出某一列类型里元素重复出现的次数\n",
    "def ID_Num(rel_data, u_data, colum):\n",
    "    id_num= {}   # colum中元素重复出现的次数\n",
    "    id_n = {}    # 为colum中元素重新定义下标，即为字典的值\n",
    "    count = 0\n",
    "    for id in u_data[colum]:\n",
    "        id_num[id]=1\n",
    "    for id in rel_data[colum]:\n",
    "        if id in id_n:\n",
    "            id_num[id] += 1\n",
    "        else:\n",
    "            id_n[id] =count\n",
    "            count += 1\n",
    "    return id_n,id_num"
   ]
  },
  {
   "cell_type": "code",
   "execution_count": 5,
   "id": "1411457c",
   "metadata": {},
   "outputs": [],
   "source": [
    "_, user_num = ID_Num(Ratings, Users, \"User-ID\")"
   ]
  },
  {
   "cell_type": "code",
   "execution_count": 6,
   "id": "31f47a08",
   "metadata": {},
   "outputs": [
    {
     "name": "stdout",
     "output_type": "stream",
     "text": [
      "用户数10740， 总交互数：247628\n"
     ]
    }
   ],
   "source": [
    "rel = 0\n",
    "Users_ID = set()\n",
    "for i in user_num:\n",
    "    if user_num[i] >= 5:\n",
    "        rel += user_num[i]\n",
    "        Users_ID.add(i)\n",
    "print(\"用户数%d， 总交互数：%d\" %(len(Users_ID), rel))"
   ]
  },
  {
   "cell_type": "code",
   "execution_count": 7,
   "id": "e6b53f5a",
   "metadata": {},
   "outputs": [
    {
     "data": {
      "text/html": [
       "<div>\n",
       "<style scoped>\n",
       "    .dataframe tbody tr th:only-of-type {\n",
       "        vertical-align: middle;\n",
       "    }\n",
       "\n",
       "    .dataframe tbody tr th {\n",
       "        vertical-align: top;\n",
       "    }\n",
       "\n",
       "    .dataframe thead th {\n",
       "        text-align: right;\n",
       "    }\n",
       "</style>\n",
       "<table border=\"1\" class=\"dataframe\">\n",
       "  <thead>\n",
       "    <tr style=\"text-align: right;\">\n",
       "      <th></th>\n",
       "      <th>User-ID</th>\n",
       "      <th>ISBN</th>\n",
       "      <th>Book-Rating</th>\n",
       "    </tr>\n",
       "  </thead>\n",
       "  <tbody>\n",
       "    <tr>\n",
       "      <th>0</th>\n",
       "      <td>276729</td>\n",
       "      <td>0521795028</td>\n",
       "      <td>6</td>\n",
       "    </tr>\n",
       "    <tr>\n",
       "      <th>1</th>\n",
       "      <td>276744</td>\n",
       "      <td>038550120X</td>\n",
       "      <td>7</td>\n",
       "    </tr>\n",
       "    <tr>\n",
       "      <th>2</th>\n",
       "      <td>276747</td>\n",
       "      <td>0060517794</td>\n",
       "      <td>9</td>\n",
       "    </tr>\n",
       "    <tr>\n",
       "      <th>3</th>\n",
       "      <td>276747</td>\n",
       "      <td>0671537458</td>\n",
       "      <td>9</td>\n",
       "    </tr>\n",
       "    <tr>\n",
       "      <th>4</th>\n",
       "      <td>276747</td>\n",
       "      <td>0679776818</td>\n",
       "      <td>8</td>\n",
       "    </tr>\n",
       "    <tr>\n",
       "      <th>...</th>\n",
       "      <td>...</td>\n",
       "      <td>...</td>\n",
       "      <td>...</td>\n",
       "    </tr>\n",
       "    <tr>\n",
       "      <th>321891</th>\n",
       "      <td>276704</td>\n",
       "      <td>0345386108</td>\n",
       "      <td>6</td>\n",
       "    </tr>\n",
       "    <tr>\n",
       "      <th>321892</th>\n",
       "      <td>276704</td>\n",
       "      <td>0743211383</td>\n",
       "      <td>7</td>\n",
       "    </tr>\n",
       "    <tr>\n",
       "      <th>321893</th>\n",
       "      <td>276704</td>\n",
       "      <td>1563526298</td>\n",
       "      <td>9</td>\n",
       "    </tr>\n",
       "    <tr>\n",
       "      <th>321894</th>\n",
       "      <td>276709</td>\n",
       "      <td>0515107662</td>\n",
       "      <td>10</td>\n",
       "    </tr>\n",
       "    <tr>\n",
       "      <th>321895</th>\n",
       "      <td>276721</td>\n",
       "      <td>0590442449</td>\n",
       "      <td>10</td>\n",
       "    </tr>\n",
       "  </tbody>\n",
       "</table>\n",
       "<p>321896 rows × 3 columns</p>\n",
       "</div>"
      ],
      "text/plain": [
       "        User-ID        ISBN  Book-Rating\n",
       "0        276729  0521795028            6\n",
       "1        276744  038550120X            7\n",
       "2        276747  0060517794            9\n",
       "3        276747  0671537458            9\n",
       "4        276747  0679776818            8\n",
       "...         ...         ...          ...\n",
       "321891   276704  0345386108            6\n",
       "321892   276704  0743211383            7\n",
       "321893   276704  1563526298            9\n",
       "321894   276709  0515107662           10\n",
       "321895   276721  0590442449           10\n",
       "\n",
       "[321896 rows x 3 columns]"
      ]
     },
     "execution_count": 7,
     "metadata": {},
     "output_type": "execute_result"
    }
   ],
   "source": [
    "Ratings"
   ]
  },
  {
   "cell_type": "code",
   "execution_count": 8,
   "id": "4e6f2640",
   "metadata": {},
   "outputs": [
    {
     "data": {
      "text/html": [
       "<div>\n",
       "<style scoped>\n",
       "    .dataframe tbody tr th:only-of-type {\n",
       "        vertical-align: middle;\n",
       "    }\n",
       "\n",
       "    .dataframe tbody tr th {\n",
       "        vertical-align: top;\n",
       "    }\n",
       "\n",
       "    .dataframe thead th {\n",
       "        text-align: right;\n",
       "    }\n",
       "</style>\n",
       "<table border=\"1\" class=\"dataframe\">\n",
       "  <thead>\n",
       "    <tr style=\"text-align: right;\">\n",
       "      <th></th>\n",
       "      <th>User-ID</th>\n",
       "      <th>ISBN</th>\n",
       "      <th>Book-Rating</th>\n",
       "    </tr>\n",
       "  </thead>\n",
       "  <tbody>\n",
       "    <tr>\n",
       "      <th>2</th>\n",
       "      <td>276747</td>\n",
       "      <td>0060517794</td>\n",
       "      <td>9</td>\n",
       "    </tr>\n",
       "    <tr>\n",
       "      <th>3</th>\n",
       "      <td>276747</td>\n",
       "      <td>0671537458</td>\n",
       "      <td>9</td>\n",
       "    </tr>\n",
       "    <tr>\n",
       "      <th>4</th>\n",
       "      <td>276747</td>\n",
       "      <td>0679776818</td>\n",
       "      <td>8</td>\n",
       "    </tr>\n",
       "    <tr>\n",
       "      <th>5</th>\n",
       "      <td>276747</td>\n",
       "      <td>0943066433</td>\n",
       "      <td>7</td>\n",
       "    </tr>\n",
       "    <tr>\n",
       "      <th>6</th>\n",
       "      <td>276747</td>\n",
       "      <td>1885408226</td>\n",
       "      <td>7</td>\n",
       "    </tr>\n",
       "    <tr>\n",
       "      <th>...</th>\n",
       "      <td>...</td>\n",
       "      <td>...</td>\n",
       "      <td>...</td>\n",
       "    </tr>\n",
       "    <tr>\n",
       "      <th>321886</th>\n",
       "      <td>276688</td>\n",
       "      <td>0836218655</td>\n",
       "      <td>10</td>\n",
       "    </tr>\n",
       "    <tr>\n",
       "      <th>321887</th>\n",
       "      <td>276688</td>\n",
       "      <td>0836236688</td>\n",
       "      <td>10</td>\n",
       "    </tr>\n",
       "    <tr>\n",
       "      <th>321888</th>\n",
       "      <td>276688</td>\n",
       "      <td>0892966548</td>\n",
       "      <td>10</td>\n",
       "    </tr>\n",
       "    <tr>\n",
       "      <th>321889</th>\n",
       "      <td>276688</td>\n",
       "      <td>1551669315</td>\n",
       "      <td>6</td>\n",
       "    </tr>\n",
       "    <tr>\n",
       "      <th>321890</th>\n",
       "      <td>276688</td>\n",
       "      <td>1575660792</td>\n",
       "      <td>7</td>\n",
       "    </tr>\n",
       "  </tbody>\n",
       "</table>\n",
       "<p>247628 rows × 3 columns</p>\n",
       "</div>"
      ],
      "text/plain": [
       "        User-ID        ISBN  Book-Rating\n",
       "2        276747  0060517794            9\n",
       "3        276747  0671537458            9\n",
       "4        276747  0679776818            8\n",
       "5        276747  0943066433            7\n",
       "6        276747  1885408226            7\n",
       "...         ...         ...          ...\n",
       "321886   276688  0836218655           10\n",
       "321887   276688  0836236688           10\n",
       "321888   276688  0892966548           10\n",
       "321889   276688  1551669315            6\n",
       "321890   276688  1575660792            7\n",
       "\n",
       "[247628 rows x 3 columns]"
      ]
     },
     "execution_count": 8,
     "metadata": {},
     "output_type": "execute_result"
    }
   ],
   "source": [
    "Ratings_5 = Ratings[Ratings[\"User-ID\"].isin(Users_ID)]\n",
    "Ratings_5"
   ]
  },
  {
   "cell_type": "code",
   "execution_count": 9,
   "id": "5724dd94",
   "metadata": {},
   "outputs": [
    {
     "name": "stdout",
     "output_type": "stream",
     "text": [
      "10740 111336\n",
      "平均每个人交互的次数: 23.056610800744878\n"
     ]
    }
   ],
   "source": [
    "Books_ID = set()\n",
    "for i in  Ratings_5['ISBN']:\n",
    "    Books_ID.add(i)\n",
    "print(len(Users_ID), len(Books_ID))\n",
    "print(\"平均每个人交互的次数:\",len(Ratings_5 )/len(Users_ID))"
   ]
  },
  {
   "cell_type": "code",
   "execution_count": 10,
   "id": "eeb87400",
   "metadata": {},
   "outputs": [
    {
     "name": "stdout",
     "output_type": "stream",
     "text": [
      "61288 129014\n"
     ]
    },
    {
     "name": "stderr",
     "output_type": "stream",
     "text": [
      "D:\\Programs\\envs\\pytorch\\lib\\site-packages\\IPython\\core\\interactiveshell.py:3072: DtypeWarning: Columns (3) have mixed types.Specify dtype option on import or set low_memory=False.\n",
      "  interactivity=interactivity, compiler=compiler, result=result)\n"
     ]
    }
   ],
   "source": [
    "books = pd.read_csv(\"./Book_data/new_data/Books.csv\")\n",
    "users = pd.read_csv(\"./Book_data/new_data/Users.csv\")\n",
    "print(len(users),len(books))"
   ]
  },
  {
   "cell_type": "code",
   "execution_count": 11,
   "id": "c3a80805",
   "metadata": {},
   "outputs": [
    {
     "name": "stdout",
     "output_type": "stream",
     "text": [
      "10740 111336\n"
     ]
    }
   ],
   "source": [
    "users = users[users[\"User-ID\"].isin(Users_ID)]\n",
    "books = books[books[\"ISBN\"].isin(Books_ID)]\n",
    "print(len(users),len(books))"
   ]
  },
  {
   "cell_type": "code",
   "execution_count": 12,
   "id": "06333db0",
   "metadata": {},
   "outputs": [],
   "source": [
    "Users_n,Books_n,Locations_n=  replaceID_Num(users, \"User-ID\"),replaceID_Num(books,\"ISBN\"),replaceID_Num(users,\"Location\")\n",
    "Book_Author_n,Year_Publication_n,Publisher_n=  replaceID_Num(books, \"Book-Author\"),replaceID_Num(books,\"Year-Of-Publication\"),replaceID_Num(books,\"Publisher\")"
   ]
  },
  {
   "cell_type": "code",
   "execution_count": 13,
   "id": "4e61045a",
   "metadata": {},
   "outputs": [
    {
     "name": "stdout",
     "output_type": "stream",
     "text": [
      "length_all:users:10740, books:111336, locations:4954 \n",
      "length_all:Book_Author:47288, Year_Publication:170, Publisher:9053 \n"
     ]
    }
   ],
   "source": [
    "print(\"length_all:users:%d, books:%d, locations:%d \"  %(len(Users_n), len(Books_n), len(Locations_n)))\n",
    "print(\"length_all:Book_Author:%d, Year_Publication:%d, Publisher:%d \"  %(len(Book_Author_n), len(Year_Publication_n), len(Publisher_n)))"
   ]
  },
  {
   "cell_type": "code",
   "execution_count": 14,
   "id": "5781444d",
   "metadata": {},
   "outputs": [],
   "source": [
    "# 将目标文件的数据替换为对应的数字并写入文件\n",
    "Users_filename = \"./Book_data/new_data/Users_5.csv\"\n",
    "Ratings_filename = \"./Book_data/new_data/Ratings_5.csv\"\n",
    "Books_filename = \"./Book_data/new_data/Books_5.csv\"\n",
    "\n",
    "# Users\n",
    "columns = []\n",
    "f = open(Users_filename, \"w\")\n",
    "for each in users.columns:\n",
    "    columns.append(each)\n",
    "f.write(\"User-ID\" + ' ' + \"Location\" + ' ' + \"Age\" + '\\n')  \n",
    "for ID1,ID2,ID3 in zip(users[columns[0]],users[columns[1]],users[columns[2]]):\n",
    "    f.write(str(Users_n[ID1]) + ' ' + str(Locations_n[ID2]) + ' ' + str(ID3) + '\\n')   \n",
    "f.close()"
   ]
  },
  {
   "cell_type": "code",
   "execution_count": 15,
   "id": "26d7bf2d",
   "metadata": {},
   "outputs": [
    {
     "data": {
      "text/html": [
       "<div>\n",
       "<style scoped>\n",
       "    .dataframe tbody tr th:only-of-type {\n",
       "        vertical-align: middle;\n",
       "    }\n",
       "\n",
       "    .dataframe tbody tr th {\n",
       "        vertical-align: top;\n",
       "    }\n",
       "\n",
       "    .dataframe thead th {\n",
       "        text-align: right;\n",
       "    }\n",
       "</style>\n",
       "<table border=\"1\" class=\"dataframe\">\n",
       "  <thead>\n",
       "    <tr style=\"text-align: right;\">\n",
       "      <th></th>\n",
       "      <th>ISBN</th>\n",
       "      <th>Book-Title</th>\n",
       "      <th>Book-Author</th>\n",
       "      <th>Year-Of-Publication</th>\n",
       "      <th>Publisher</th>\n",
       "      <th>Image-URL-S</th>\n",
       "      <th>Image-URL-M</th>\n",
       "      <th>Image-URL-L</th>\n",
       "    </tr>\n",
       "  </thead>\n",
       "  <tbody>\n",
       "    <tr>\n",
       "      <th>0</th>\n",
       "      <td>0002005018</td>\n",
       "      <td>Clara Callan</td>\n",
       "      <td>Richard Bruce Wright</td>\n",
       "      <td>2001</td>\n",
       "      <td>HarperFlamingo Canada</td>\n",
       "      <td>http://images.amazon.com/images/P/0002005018.0...</td>\n",
       "      <td>http://images.amazon.com/images/P/0002005018.0...</td>\n",
       "      <td>http://images.amazon.com/images/P/0002005018.0...</td>\n",
       "    </tr>\n",
       "  </tbody>\n",
       "</table>\n",
       "</div>"
      ],
      "text/plain": [
       "         ISBN    Book-Title           Book-Author Year-Of-Publication  \\\n",
       "0  0002005018  Clara Callan  Richard Bruce Wright                2001   \n",
       "\n",
       "               Publisher                                        Image-URL-S  \\\n",
       "0  HarperFlamingo Canada  http://images.amazon.com/images/P/0002005018.0...   \n",
       "\n",
       "                                         Image-URL-M  \\\n",
       "0  http://images.amazon.com/images/P/0002005018.0...   \n",
       "\n",
       "                                         Image-URL-L  \n",
       "0  http://images.amazon.com/images/P/0002005018.0...  "
      ]
     },
     "execution_count": 15,
     "metadata": {},
     "output_type": "execute_result"
    }
   ],
   "source": [
    "books.head(1)"
   ]
  },
  {
   "cell_type": "code",
   "execution_count": 23,
   "id": "c76db1bb",
   "metadata": {},
   "outputs": [],
   "source": [
    "# Books\n",
    "columns = []\n",
    "f = open(Books_filename, \"w\")\n",
    "for each in books.columns:\n",
    "    columns.append(each)\n",
    "f.write(\"ISBN\" + ' ' + \"Book-Author\" + ' ' + \"Year-Of-Publication\" +  ' ' +  \"Publisher\" + '\\n')  \n",
    "for ID1,ID2,ID3,ID4 in zip(books[columns[0]],books[columns[2]],books[columns[3]], books[columns[4]]):\n",
    "    f.write(str(Books_n[ID1]) + ' ' + str(Book_Author_n[ID2]) + ' ' + str(int(ID3)) + ' ' + str(Publisher_n[ID4]) +'\\n')   \n",
    "f.close()\n",
    "\n",
    "# Books_n , Book_Author_n,Year_Publication_n,Publisher_n"
   ]
  },
  {
   "cell_type": "code",
   "execution_count": 24,
   "id": "da89cbe6",
   "metadata": {},
   "outputs": [
    {
     "data": {
      "text/html": [
       "<div>\n",
       "<style scoped>\n",
       "    .dataframe tbody tr th:only-of-type {\n",
       "        vertical-align: middle;\n",
       "    }\n",
       "\n",
       "    .dataframe tbody tr th {\n",
       "        vertical-align: top;\n",
       "    }\n",
       "\n",
       "    .dataframe thead th {\n",
       "        text-align: right;\n",
       "    }\n",
       "</style>\n",
       "<table border=\"1\" class=\"dataframe\">\n",
       "  <thead>\n",
       "    <tr style=\"text-align: right;\">\n",
       "      <th></th>\n",
       "      <th>User-ID</th>\n",
       "      <th>ISBN</th>\n",
       "      <th>Book-Rating</th>\n",
       "    </tr>\n",
       "  </thead>\n",
       "  <tbody>\n",
       "    <tr>\n",
       "      <th>2</th>\n",
       "      <td>276747</td>\n",
       "      <td>0060517794</td>\n",
       "      <td>9</td>\n",
       "    </tr>\n",
       "    <tr>\n",
       "      <th>3</th>\n",
       "      <td>276747</td>\n",
       "      <td>0671537458</td>\n",
       "      <td>9</td>\n",
       "    </tr>\n",
       "    <tr>\n",
       "      <th>4</th>\n",
       "      <td>276747</td>\n",
       "      <td>0679776818</td>\n",
       "      <td>8</td>\n",
       "    </tr>\n",
       "    <tr>\n",
       "      <th>5</th>\n",
       "      <td>276747</td>\n",
       "      <td>0943066433</td>\n",
       "      <td>7</td>\n",
       "    </tr>\n",
       "    <tr>\n",
       "      <th>6</th>\n",
       "      <td>276747</td>\n",
       "      <td>1885408226</td>\n",
       "      <td>7</td>\n",
       "    </tr>\n",
       "    <tr>\n",
       "      <th>26</th>\n",
       "      <td>276813</td>\n",
       "      <td>8423996565</td>\n",
       "      <td>8</td>\n",
       "    </tr>\n",
       "    <tr>\n",
       "      <th>27</th>\n",
       "      <td>276813</td>\n",
       "      <td>8426449476</td>\n",
       "      <td>8</td>\n",
       "    </tr>\n",
       "    <tr>\n",
       "      <th>28</th>\n",
       "      <td>276813</td>\n",
       "      <td>8426449573</td>\n",
       "      <td>6</td>\n",
       "    </tr>\n",
       "    <tr>\n",
       "      <th>29</th>\n",
       "      <td>276813</td>\n",
       "      <td>8478885218</td>\n",
       "      <td>6</td>\n",
       "    </tr>\n",
       "    <tr>\n",
       "      <th>30</th>\n",
       "      <td>276813</td>\n",
       "      <td>8478886044</td>\n",
       "      <td>8</td>\n",
       "    </tr>\n",
       "  </tbody>\n",
       "</table>\n",
       "</div>"
      ],
      "text/plain": [
       "    User-ID        ISBN  Book-Rating\n",
       "2    276747  0060517794            9\n",
       "3    276747  0671537458            9\n",
       "4    276747  0679776818            8\n",
       "5    276747  0943066433            7\n",
       "6    276747  1885408226            7\n",
       "26   276813  8423996565            8\n",
       "27   276813  8426449476            8\n",
       "28   276813  8426449573            6\n",
       "29   276813  8478885218            6\n",
       "30   276813  8478886044            8"
      ]
     },
     "execution_count": 24,
     "metadata": {},
     "output_type": "execute_result"
    }
   ],
   "source": [
    "Ratings_5.head(10)"
   ]
  },
  {
   "cell_type": "code",
   "execution_count": 25,
   "id": "6ae55128",
   "metadata": {},
   "outputs": [],
   "source": [
    "# Rating\n",
    "columns = []\n",
    "f = open(Ratings_filename, \"w\")\n",
    "for each in Ratings_5.columns:\n",
    "    columns.append(each)\n",
    "f.write(\"User-ID\" + ' ' + \"ISBN\" + ' ' + \"Book-Rating\" + '\\n')  \n",
    "for ID1,ID2,ID3 in zip(Ratings_5[columns[0]],Ratings_5[columns[1]],Ratings_5[columns[2]]):\n",
    "    f.write(str(Users_n[ID1]) + ' ' + str(Books_n[ID2])  + ' '+ str(ID3) +'\\n')   \n",
    "f.close()\n"
   ]
  },
  {
   "cell_type": "code",
   "execution_count": null,
   "id": "9d9567f3",
   "metadata": {},
   "outputs": [],
   "source": []
  },
  {
   "cell_type": "code",
   "execution_count": 26,
   "id": "77f17f85",
   "metadata": {},
   "outputs": [],
   "source": [
    "# 将目标文件的数据替换为对应的数字并写入文件\n",
    "def replaceData_Num(data, new_filename, new_ID1,new_ID2):   \n",
    "    columns = []\n",
    "    f  = open(new_filename, \"w\")\n",
    "    for each in data.columns:\n",
    "        columns.append(each)\n",
    "    if len(columns) == 2:\n",
    "        for ID1,ID2 in zip(data[columns[0]],data[columns[1]]):\n",
    "    #     print(user_n[ID1],video_n[ID2])\n",
    "            f.write(str(new_ID1[ID1]) + ' ' + str(new_ID2[ID2]) + '\\n')\n",
    "    else:\n",
    "         for ID1 in data[columns[0]]:\n",
    "            f.write(str(new_ID1[ID1]) + '\\n')         \n",
    "    f.close()"
   ]
  },
  {
   "cell_type": "code",
   "execution_count": 31,
   "id": "6ff882dc",
   "metadata": {},
   "outputs": [
    {
     "data": {
      "text/html": [
       "<div>\n",
       "<style scoped>\n",
       "    .dataframe tbody tr th:only-of-type {\n",
       "        vertical-align: middle;\n",
       "    }\n",
       "\n",
       "    .dataframe tbody tr th {\n",
       "        vertical-align: top;\n",
       "    }\n",
       "\n",
       "    .dataframe thead th {\n",
       "        text-align: right;\n",
       "    }\n",
       "</style>\n",
       "<table border=\"1\" class=\"dataframe\">\n",
       "  <thead>\n",
       "    <tr style=\"text-align: right;\">\n",
       "      <th></th>\n",
       "      <th>ISBN</th>\n",
       "      <th>Book-Author</th>\n",
       "      <th>Year-Of-Publication</th>\n",
       "      <th>Publisher</th>\n",
       "    </tr>\n",
       "  </thead>\n",
       "  <tbody>\n",
       "    <tr>\n",
       "      <th>0</th>\n",
       "      <td>0</td>\n",
       "      <td>0</td>\n",
       "      <td>2001</td>\n",
       "      <td>0</td>\n",
       "    </tr>\n",
       "    <tr>\n",
       "      <th>1</th>\n",
       "      <td>1</td>\n",
       "      <td>1</td>\n",
       "      <td>1991</td>\n",
       "      <td>1</td>\n",
       "    </tr>\n",
       "    <tr>\n",
       "      <th>2</th>\n",
       "      <td>2</td>\n",
       "      <td>2</td>\n",
       "      <td>1999</td>\n",
       "      <td>2</td>\n",
       "    </tr>\n",
       "    <tr>\n",
       "      <th>3</th>\n",
       "      <td>3</td>\n",
       "      <td>3</td>\n",
       "      <td>1991</td>\n",
       "      <td>3</td>\n",
       "    </tr>\n",
       "    <tr>\n",
       "      <th>4</th>\n",
       "      <td>4</td>\n",
       "      <td>4</td>\n",
       "      <td>2000</td>\n",
       "      <td>4</td>\n",
       "    </tr>\n",
       "    <tr>\n",
       "      <th>...</th>\n",
       "      <td>...</td>\n",
       "      <td>...</td>\n",
       "      <td>...</td>\n",
       "      <td>...</td>\n",
       "    </tr>\n",
       "    <tr>\n",
       "      <th>111331</th>\n",
       "      <td>111331</td>\n",
       "      <td>1763</td>\n",
       "      <td>2001</td>\n",
       "      <td>9051</td>\n",
       "    </tr>\n",
       "    <tr>\n",
       "      <th>111332</th>\n",
       "      <td>111332</td>\n",
       "      <td>38829</td>\n",
       "      <td>1989</td>\n",
       "      <td>7562</td>\n",
       "    </tr>\n",
       "    <tr>\n",
       "      <th>111333</th>\n",
       "      <td>111333</td>\n",
       "      <td>5641</td>\n",
       "      <td>1978</td>\n",
       "      <td>304</td>\n",
       "    </tr>\n",
       "    <tr>\n",
       "      <th>111334</th>\n",
       "      <td>111334</td>\n",
       "      <td>47287</td>\n",
       "      <td>2004</td>\n",
       "      <td>9052</td>\n",
       "    </tr>\n",
       "    <tr>\n",
       "      <th>111335</th>\n",
       "      <td>111335</td>\n",
       "      <td>266</td>\n",
       "      <td>1988</td>\n",
       "      <td>975</td>\n",
       "    </tr>\n",
       "  </tbody>\n",
       "</table>\n",
       "<p>111336 rows × 4 columns</p>\n",
       "</div>"
      ],
      "text/plain": [
       "          ISBN  Book-Author  Year-Of-Publication  Publisher\n",
       "0            0            0                 2001          0\n",
       "1            1            1                 1991          1\n",
       "2            2            2                 1999          2\n",
       "3            3            3                 1991          3\n",
       "4            4            4                 2000          4\n",
       "...        ...          ...                  ...        ...\n",
       "111331  111331         1763                 2001       9051\n",
       "111332  111332        38829                 1989       7562\n",
       "111333  111333         5641                 1978        304\n",
       "111334  111334        47287                 2004       9052\n",
       "111335  111335          266                 1988        975\n",
       "\n",
       "[111336 rows x 4 columns]"
      ]
     },
     "execution_count": 31,
     "metadata": {},
     "output_type": "execute_result"
    }
   ],
   "source": [
    "Books = pd.read_csv(\"./Book_data/new_data/Books_5.csv\", sep = ' ')\n",
    "Books"
   ]
  },
  {
   "cell_type": "code",
   "execution_count": null,
   "id": "9685bc54",
   "metadata": {},
   "outputs": [],
   "source": []
  },
  {
   "cell_type": "code",
   "execution_count": null,
   "id": "4a169ced",
   "metadata": {},
   "outputs": [],
   "source": []
  },
  {
   "cell_type": "code",
   "execution_count": null,
   "id": "46a2259d",
   "metadata": {},
   "outputs": [],
   "source": []
  },
  {
   "cell_type": "code",
   "execution_count": null,
   "id": "9371af2f",
   "metadata": {},
   "outputs": [],
   "source": []
  }
 ],
 "metadata": {
  "kernelspec": {
   "display_name": "Python [conda env:pytorch] *",
   "language": "python",
   "name": "conda-env-pytorch-py"
  },
  "language_info": {
   "codemirror_mode": {
    "name": "ipython",
    "version": 3
   },
   "file_extension": ".py",
   "mimetype": "text/x-python",
   "name": "python",
   "nbconvert_exporter": "python",
   "pygments_lexer": "ipython3",
   "version": "3.6.13"
  }
 },
 "nbformat": 4,
 "nbformat_minor": 5
}
