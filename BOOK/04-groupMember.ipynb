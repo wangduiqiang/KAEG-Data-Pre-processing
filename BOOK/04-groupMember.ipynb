{
 "cells": [
  {
   "cell_type": "code",
   "execution_count": 1,
   "id": "afcd25f0",
   "metadata": {},
   "outputs": [],
   "source": [
    "import numpy as np\n",
    "import pandas as pd"
   ]
  },
  {
   "cell_type": "code",
   "execution_count": 2,
   "id": "63663205",
   "metadata": {},
   "outputs": [],
   "source": [
    "Ratings = pd.read_csv(\"./Book_data/new_data/Ratings_5.csv\", sep = ' ')"
   ]
  },
  {
   "cell_type": "code",
   "execution_count": 3,
   "id": "9666a707",
   "metadata": {},
   "outputs": [
    {
     "data": {
      "text/html": [
       "<div>\n",
       "<style scoped>\n",
       "    .dataframe tbody tr th:only-of-type {\n",
       "        vertical-align: middle;\n",
       "    }\n",
       "\n",
       "    .dataframe tbody tr th {\n",
       "        vertical-align: top;\n",
       "    }\n",
       "\n",
       "    .dataframe thead th {\n",
       "        text-align: right;\n",
       "    }\n",
       "</style>\n",
       "<table border=\"1\" class=\"dataframe\">\n",
       "  <thead>\n",
       "    <tr style=\"text-align: right;\">\n",
       "      <th></th>\n",
       "      <th>User-ID</th>\n",
       "      <th>ISBN</th>\n",
       "      <th>Book-Rating</th>\n",
       "    </tr>\n",
       "  </thead>\n",
       "  <tbody>\n",
       "    <tr>\n",
       "      <th>1167</th>\n",
       "      <td>0</td>\n",
       "      <td>62</td>\n",
       "      <td>8</td>\n",
       "    </tr>\n",
       "    <tr>\n",
       "      <th>1168</th>\n",
       "      <td>0</td>\n",
       "      <td>63</td>\n",
       "      <td>8</td>\n",
       "    </tr>\n",
       "    <tr>\n",
       "      <th>1169</th>\n",
       "      <td>0</td>\n",
       "      <td>64</td>\n",
       "      <td>7</td>\n",
       "    </tr>\n",
       "    <tr>\n",
       "      <th>1170</th>\n",
       "      <td>0</td>\n",
       "      <td>66</td>\n",
       "      <td>6</td>\n",
       "    </tr>\n",
       "    <tr>\n",
       "      <th>1171</th>\n",
       "      <td>0</td>\n",
       "      <td>67</td>\n",
       "      <td>10</td>\n",
       "    </tr>\n",
       "    <tr>\n",
       "      <th>...</th>\n",
       "      <td>...</td>\n",
       "      <td>...</td>\n",
       "      <td>...</td>\n",
       "    </tr>\n",
       "    <tr>\n",
       "      <th>1162</th>\n",
       "      <td>10739</td>\n",
       "      <td>6950</td>\n",
       "      <td>7</td>\n",
       "    </tr>\n",
       "    <tr>\n",
       "      <th>1163</th>\n",
       "      <td>10739</td>\n",
       "      <td>4045</td>\n",
       "      <td>7</td>\n",
       "    </tr>\n",
       "    <tr>\n",
       "      <th>1164</th>\n",
       "      <td>10739</td>\n",
       "      <td>62091</td>\n",
       "      <td>7</td>\n",
       "    </tr>\n",
       "    <tr>\n",
       "      <th>1165</th>\n",
       "      <td>10739</td>\n",
       "      <td>53165</td>\n",
       "      <td>6</td>\n",
       "    </tr>\n",
       "    <tr>\n",
       "      <th>1166</th>\n",
       "      <td>10739</td>\n",
       "      <td>2698</td>\n",
       "      <td>8</td>\n",
       "    </tr>\n",
       "  </tbody>\n",
       "</table>\n",
       "<p>247628 rows × 3 columns</p>\n",
       "</div>"
      ],
      "text/plain": [
       "      User-ID   ISBN  Book-Rating\n",
       "1167        0     62            8\n",
       "1168        0     63            8\n",
       "1169        0     64            7\n",
       "1170        0     66            6\n",
       "1171        0     67           10\n",
       "...       ...    ...          ...\n",
       "1162    10739   6950            7\n",
       "1163    10739   4045            7\n",
       "1164    10739  62091            7\n",
       "1165    10739  53165            6\n",
       "1166    10739   2698            8\n",
       "\n",
       "[247628 rows x 3 columns]"
      ]
     },
     "execution_count": 3,
     "metadata": {},
     "output_type": "execute_result"
    }
   ],
   "source": [
    "Ratings = Ratings.sort_values(by=\"User-ID\")\n",
    "Ratings"
   ]
  },
  {
   "cell_type": "code",
   "execution_count": 10,
   "id": "d9a22e17",
   "metadata": {},
   "outputs": [
    {
     "data": {
      "text/plain": [
       "10740"
      ]
     },
     "execution_count": 10,
     "metadata": {},
     "output_type": "execute_result"
    }
   ],
   "source": [
    "import random\n",
    "user = set()\n",
    "for i in Ratings['User-ID']:\n",
    "    user.add(i)\n",
    "random.shuffle(list(user))\n",
    "user = list(user)\n",
    "len(user)"
   ]
  },
  {
   "cell_type": "code",
   "execution_count": 6,
   "id": "74993700",
   "metadata": {},
   "outputs": [],
   "source": [
    "#  每个组3-5人\n",
    "groupID = []\n",
    "groupMemberOne = []\n",
    "groupMember = []\n",
    "j = np.random.randint(3,6)\n",
    "C_groupID = 0\n",
    "C_len =0\n",
    "for i in range(len(user)):\n",
    "    C_len += j\n",
    "    if j > 1:  \n",
    "        j -= 1\n",
    "        groupMemberOne.append(user[i] )\n",
    "    elif j == 1:\n",
    "        groupMemberOne.append(user[i] )\n",
    "        groupMember.append(groupMemberOne)\n",
    "        groupMemberOne =[]\n",
    "        j = np.random.randint(3,6)\n",
    "#         print(j)\n",
    "        groupID.append(C_groupID)\n",
    "        C_groupID += 1\n",
    "    \n",
    "if C_len > len(user) and groupMemberOne is not None:\n",
    "    groupMember.append(groupMemberOne)\n",
    "    C_groupID += 1\n",
    "    groupID.append(C_groupID)"
   ]
  },
  {
   "cell_type": "code",
   "execution_count": 7,
   "id": "4b1a8e50",
   "metadata": {},
   "outputs": [
    {
     "name": "stdout",
     "output_type": "stream",
     "text": [
      "组的个数： 2676\n"
     ]
    },
    {
     "data": {
      "text/plain": [
       "[[10657, 10658, 10659],\n",
       " [10660, 10661, 10662],\n",
       " [10663, 10664, 10665, 10666],\n",
       " [10667, 10668, 10669, 10670, 10671],\n",
       " [10672, 10673, 10674],\n",
       " [10675, 10676, 10677, 10678],\n",
       " [10679, 10680, 10681, 10682, 10683],\n",
       " [10684, 10685, 10686, 10687],\n",
       " [10688, 10689, 10690, 10691],\n",
       " [10692, 10693, 10694, 10695],\n",
       " [10696, 10697, 10698, 10699, 10700],\n",
       " [10701, 10702, 10703, 10704],\n",
       " [10705, 10706, 10707],\n",
       " [10708, 10709, 10710, 10711, 10712],\n",
       " [10713, 10714, 10715, 10716],\n",
       " [10717, 10718, 10719, 10720, 10721],\n",
       " [10722, 10723, 10724, 10725],\n",
       " [10726, 10727, 10728, 10729, 10730],\n",
       " [10731, 10732, 10733, 10734, 10735],\n",
       " [10736, 10737, 10738, 10739]]"
      ]
     },
     "execution_count": 7,
     "metadata": {},
     "output_type": "execute_result"
    }
   ],
   "source": [
    "print(\"组的个数：\",len(groupMember))\n",
    "groupMember[-20:]"
   ]
  },
  {
   "cell_type": "code",
   "execution_count": 8,
   "id": "847ce115",
   "metadata": {},
   "outputs": [],
   "source": [
    "filename = './Book_data/KA_Book/moocgroupMember_u_v.csv'\n",
    "GroupID = 0\n",
    "count = 0\n",
    "with open(filename,'w') as object:\n",
    "    for i in groupMember:\n",
    "        object.write(str(GroupID)+\" \")\n",
    "        count=0\n",
    "        for j in i:\n",
    "            c = len(i)\n",
    "            count+=1\n",
    "            if count < c:\n",
    "                object.write(str(j))\n",
    "                object.write(',')\n",
    "            else:\n",
    "                object.write(str(j))\n",
    "        GroupID+=1\n",
    "        object.write('\\n')"
   ]
  },
  {
   "cell_type": "code",
   "execution_count": 9,
   "id": "c7e63f0b",
   "metadata": {},
   "outputs": [
    {
     "data": {
      "text/html": [
       "<div>\n",
       "<style scoped>\n",
       "    .dataframe tbody tr th:only-of-type {\n",
       "        vertical-align: middle;\n",
       "    }\n",
       "\n",
       "    .dataframe tbody tr th {\n",
       "        vertical-align: top;\n",
       "    }\n",
       "\n",
       "    .dataframe thead th {\n",
       "        text-align: right;\n",
       "    }\n",
       "</style>\n",
       "<table border=\"1\" class=\"dataframe\">\n",
       "  <thead>\n",
       "    <tr style=\"text-align: right;\">\n",
       "      <th></th>\n",
       "      <th>0</th>\n",
       "      <th>1</th>\n",
       "    </tr>\n",
       "  </thead>\n",
       "  <tbody>\n",
       "    <tr>\n",
       "      <th>0</th>\n",
       "      <td>0</td>\n",
       "      <td>0,1,2,3,4</td>\n",
       "    </tr>\n",
       "    <tr>\n",
       "      <th>1</th>\n",
       "      <td>1</td>\n",
       "      <td>5,6,7,8,9</td>\n",
       "    </tr>\n",
       "    <tr>\n",
       "      <th>2</th>\n",
       "      <td>2</td>\n",
       "      <td>10,11,12,13</td>\n",
       "    </tr>\n",
       "    <tr>\n",
       "      <th>3</th>\n",
       "      <td>3</td>\n",
       "      <td>14,15,16,17</td>\n",
       "    </tr>\n",
       "    <tr>\n",
       "      <th>4</th>\n",
       "      <td>4</td>\n",
       "      <td>18,19,20,21,22</td>\n",
       "    </tr>\n",
       "    <tr>\n",
       "      <th>...</th>\n",
       "      <td>...</td>\n",
       "      <td>...</td>\n",
       "    </tr>\n",
       "    <tr>\n",
       "      <th>2671</th>\n",
       "      <td>2671</td>\n",
       "      <td>10717,10718,10719,10720,10721</td>\n",
       "    </tr>\n",
       "    <tr>\n",
       "      <th>2672</th>\n",
       "      <td>2672</td>\n",
       "      <td>10722,10723,10724,10725</td>\n",
       "    </tr>\n",
       "    <tr>\n",
       "      <th>2673</th>\n",
       "      <td>2673</td>\n",
       "      <td>10726,10727,10728,10729,10730</td>\n",
       "    </tr>\n",
       "    <tr>\n",
       "      <th>2674</th>\n",
       "      <td>2674</td>\n",
       "      <td>10731,10732,10733,10734,10735</td>\n",
       "    </tr>\n",
       "    <tr>\n",
       "      <th>2675</th>\n",
       "      <td>2675</td>\n",
       "      <td>10736,10737,10738,10739</td>\n",
       "    </tr>\n",
       "  </tbody>\n",
       "</table>\n",
       "<p>2676 rows × 2 columns</p>\n",
       "</div>"
      ],
      "text/plain": [
       "         0                              1\n",
       "0        0                      0,1,2,3,4\n",
       "1        1                      5,6,7,8,9\n",
       "2        2                    10,11,12,13\n",
       "3        3                    14,15,16,17\n",
       "4        4                 18,19,20,21,22\n",
       "...    ...                            ...\n",
       "2671  2671  10717,10718,10719,10720,10721\n",
       "2672  2672        10722,10723,10724,10725\n",
       "2673  2673  10726,10727,10728,10729,10730\n",
       "2674  2674  10731,10732,10733,10734,10735\n",
       "2675  2675        10736,10737,10738,10739\n",
       "\n",
       "[2676 rows x 2 columns]"
      ]
     },
     "execution_count": 9,
     "metadata": {},
     "output_type": "execute_result"
    }
   ],
   "source": [
    "groupMembe = pd.read_csv(\"./Book_data/KA_Book/moocgroupMember_u_v.csv\",header=None,sep =' ')\n",
    "groupMembe"
   ]
  },
  {
   "cell_type": "code",
   "execution_count": null,
   "id": "c5be2ff1",
   "metadata": {},
   "outputs": [],
   "source": []
  },
  {
   "cell_type": "code",
   "execution_count": null,
   "id": "3c3b30f0",
   "metadata": {},
   "outputs": [],
   "source": []
  }
 ],
 "metadata": {
  "kernelspec": {
   "display_name": "Python [conda env:pytorch] *",
   "language": "python",
   "name": "conda-env-pytorch-py"
  },
  "language_info": {
   "codemirror_mode": {
    "name": "ipython",
    "version": 3
   },
   "file_extension": ".py",
   "mimetype": "text/x-python",
   "name": "python",
   "nbconvert_exporter": "python",
   "pygments_lexer": "ipython3",
   "version": "3.6.13"
  }
 },
 "nbformat": 4,
 "nbformat_minor": 5
}
