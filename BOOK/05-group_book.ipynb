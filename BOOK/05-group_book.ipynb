{
 "cells": [
  {
   "cell_type": "code",
   "execution_count": 1,
   "id": "cd9a9613",
   "metadata": {},
   "outputs": [],
   "source": [
    "import numpy as np\n",
    "import pandas as pd\n",
    "import matplotlib.pyplot as plt\n",
    "import seaborn as sns"
   ]
  },
  {
   "cell_type": "code",
   "execution_count": 2,
   "id": "432ee967",
   "metadata": {},
   "outputs": [],
   "source": [
    "user_book  = pd.read_csv(\"./Book_data/new_data/Ratings_5.csv\", sep = ' ')\n",
    "groupMembe = pd.read_csv(\"./Book_data/KA_Book/moocgroupMember_u_v.csv\",header=None,sep =' ')"
   ]
  },
  {
   "cell_type": "code",
   "execution_count": 4,
   "id": "f3ebf187",
   "metadata": {},
   "outputs": [
    {
     "data": {
      "text/html": [
       "<div>\n",
       "<style scoped>\n",
       "    .dataframe tbody tr th:only-of-type {\n",
       "        vertical-align: middle;\n",
       "    }\n",
       "\n",
       "    .dataframe tbody tr th {\n",
       "        vertical-align: top;\n",
       "    }\n",
       "\n",
       "    .dataframe thead th {\n",
       "        text-align: right;\n",
       "    }\n",
       "</style>\n",
       "<table border=\"1\" class=\"dataframe\">\n",
       "  <thead>\n",
       "    <tr style=\"text-align: right;\">\n",
       "      <th></th>\n",
       "      <th>User-ID</th>\n",
       "      <th>ISBN</th>\n",
       "      <th>Book-Rating</th>\n",
       "    </tr>\n",
       "  </thead>\n",
       "  <tbody>\n",
       "    <tr>\n",
       "      <th>1167</th>\n",
       "      <td>0</td>\n",
       "      <td>62</td>\n",
       "      <td>8</td>\n",
       "    </tr>\n",
       "    <tr>\n",
       "      <th>1168</th>\n",
       "      <td>0</td>\n",
       "      <td>63</td>\n",
       "      <td>8</td>\n",
       "    </tr>\n",
       "    <tr>\n",
       "      <th>1169</th>\n",
       "      <td>0</td>\n",
       "      <td>64</td>\n",
       "      <td>7</td>\n",
       "    </tr>\n",
       "    <tr>\n",
       "      <th>1170</th>\n",
       "      <td>0</td>\n",
       "      <td>66</td>\n",
       "      <td>6</td>\n",
       "    </tr>\n",
       "    <tr>\n",
       "      <th>1171</th>\n",
       "      <td>0</td>\n",
       "      <td>67</td>\n",
       "      <td>10</td>\n",
       "    </tr>\n",
       "    <tr>\n",
       "      <th>...</th>\n",
       "      <td>...</td>\n",
       "      <td>...</td>\n",
       "      <td>...</td>\n",
       "    </tr>\n",
       "    <tr>\n",
       "      <th>1162</th>\n",
       "      <td>10739</td>\n",
       "      <td>6950</td>\n",
       "      <td>7</td>\n",
       "    </tr>\n",
       "    <tr>\n",
       "      <th>1163</th>\n",
       "      <td>10739</td>\n",
       "      <td>4045</td>\n",
       "      <td>7</td>\n",
       "    </tr>\n",
       "    <tr>\n",
       "      <th>1164</th>\n",
       "      <td>10739</td>\n",
       "      <td>62091</td>\n",
       "      <td>7</td>\n",
       "    </tr>\n",
       "    <tr>\n",
       "      <th>1165</th>\n",
       "      <td>10739</td>\n",
       "      <td>53165</td>\n",
       "      <td>6</td>\n",
       "    </tr>\n",
       "    <tr>\n",
       "      <th>1166</th>\n",
       "      <td>10739</td>\n",
       "      <td>2698</td>\n",
       "      <td>8</td>\n",
       "    </tr>\n",
       "  </tbody>\n",
       "</table>\n",
       "<p>247628 rows × 3 columns</p>\n",
       "</div>"
      ],
      "text/plain": [
       "      User-ID   ISBN  Book-Rating\n",
       "1167        0     62            8\n",
       "1168        0     63            8\n",
       "1169        0     64            7\n",
       "1170        0     66            6\n",
       "1171        0     67           10\n",
       "...       ...    ...          ...\n",
       "1162    10739   6950            7\n",
       "1163    10739   4045            7\n",
       "1164    10739  62091            7\n",
       "1165    10739  53165            6\n",
       "1166    10739   2698            8\n",
       "\n",
       "[247628 rows x 3 columns]"
      ]
     },
     "execution_count": 4,
     "metadata": {},
     "output_type": "execute_result"
    }
   ],
   "source": [
    "user_book.sort_values(by = \"User-ID\")"
   ]
  },
  {
   "cell_type": "code",
   "execution_count": 5,
   "id": "0cf0e183",
   "metadata": {},
   "outputs": [
    {
     "data": {
      "text/html": [
       "<div>\n",
       "<style scoped>\n",
       "    .dataframe tbody tr th:only-of-type {\n",
       "        vertical-align: middle;\n",
       "    }\n",
       "\n",
       "    .dataframe tbody tr th {\n",
       "        vertical-align: top;\n",
       "    }\n",
       "\n",
       "    .dataframe thead th {\n",
       "        text-align: right;\n",
       "    }\n",
       "</style>\n",
       "<table border=\"1\" class=\"dataframe\">\n",
       "  <thead>\n",
       "    <tr style=\"text-align: right;\">\n",
       "      <th></th>\n",
       "      <th>0</th>\n",
       "      <th>1</th>\n",
       "    </tr>\n",
       "  </thead>\n",
       "  <tbody>\n",
       "    <tr>\n",
       "      <th>0</th>\n",
       "      <td>0</td>\n",
       "      <td>0,1,2,3,4</td>\n",
       "    </tr>\n",
       "    <tr>\n",
       "      <th>1</th>\n",
       "      <td>1</td>\n",
       "      <td>5,6,7,8,9</td>\n",
       "    </tr>\n",
       "    <tr>\n",
       "      <th>2</th>\n",
       "      <td>2</td>\n",
       "      <td>10,11,12,13</td>\n",
       "    </tr>\n",
       "    <tr>\n",
       "      <th>3</th>\n",
       "      <td>3</td>\n",
       "      <td>14,15,16,17</td>\n",
       "    </tr>\n",
       "    <tr>\n",
       "      <th>4</th>\n",
       "      <td>4</td>\n",
       "      <td>18,19,20,21,22</td>\n",
       "    </tr>\n",
       "    <tr>\n",
       "      <th>...</th>\n",
       "      <td>...</td>\n",
       "      <td>...</td>\n",
       "    </tr>\n",
       "    <tr>\n",
       "      <th>2671</th>\n",
       "      <td>2671</td>\n",
       "      <td>10717,10718,10719,10720,10721</td>\n",
       "    </tr>\n",
       "    <tr>\n",
       "      <th>2672</th>\n",
       "      <td>2672</td>\n",
       "      <td>10722,10723,10724,10725</td>\n",
       "    </tr>\n",
       "    <tr>\n",
       "      <th>2673</th>\n",
       "      <td>2673</td>\n",
       "      <td>10726,10727,10728,10729,10730</td>\n",
       "    </tr>\n",
       "    <tr>\n",
       "      <th>2674</th>\n",
       "      <td>2674</td>\n",
       "      <td>10731,10732,10733,10734,10735</td>\n",
       "    </tr>\n",
       "    <tr>\n",
       "      <th>2675</th>\n",
       "      <td>2675</td>\n",
       "      <td>10736,10737,10738,10739</td>\n",
       "    </tr>\n",
       "  </tbody>\n",
       "</table>\n",
       "<p>2676 rows × 2 columns</p>\n",
       "</div>"
      ],
      "text/plain": [
       "         0                              1\n",
       "0        0                      0,1,2,3,4\n",
       "1        1                      5,6,7,8,9\n",
       "2        2                    10,11,12,13\n",
       "3        3                    14,15,16,17\n",
       "4        4                 18,19,20,21,22\n",
       "...    ...                            ...\n",
       "2671  2671  10717,10718,10719,10720,10721\n",
       "2672  2672        10722,10723,10724,10725\n",
       "2673  2673  10726,10727,10728,10729,10730\n",
       "2674  2674  10731,10732,10733,10734,10735\n",
       "2675  2675        10736,10737,10738,10739\n",
       "\n",
       "[2676 rows x 2 columns]"
      ]
     },
     "execution_count": 5,
     "metadata": {},
     "output_type": "execute_result"
    }
   ],
   "source": [
    "groupMembe"
   ]
  },
  {
   "cell_type": "code",
   "execution_count": 6,
   "id": "c69ee0b4",
   "metadata": {},
   "outputs": [],
   "source": [
    "list_user = [int(i) for i in user_book['User-ID']]\n",
    "list_book = [i for i in user_book['ISBN']]\n",
    "list_rating = [i for i in user_book['Book-Rating']]"
   ]
  },
  {
   "cell_type": "code",
   "execution_count": 7,
   "id": "8cc50a00",
   "metadata": {},
   "outputs": [],
   "source": [
    "#  查找元素在列表中的下标\n",
    "def find_in_list(myList,value):\n",
    "    try:\n",
    "        pos=[]\n",
    "        for v in range(0,len(myList)):\n",
    "            if value==myList[v]:\n",
    "                pos.append(v)\n",
    "        return pos\n",
    "    except:\n",
    "        print(\"find_in_list() Exception!\")"
   ]
  },
  {
   "cell_type": "code",
   "execution_count": 8,
   "id": "c26c5572",
   "metadata": {},
   "outputs": [
    {
     "data": {
      "text/plain": [
       "[6949,\n",
       " 12799,\n",
       " 57231,\n",
       " 75113,\n",
       " 98271,\n",
       " 121508,\n",
       " 138428,\n",
       " 149726,\n",
       " 161372,\n",
       " 173846,\n",
       " 187801,\n",
       " 244194]"
      ]
     },
     "execution_count": 8,
     "metadata": {},
     "output_type": "execute_result"
    }
   ],
   "source": [
    "find_in_list(list_book,10)"
   ]
  },
  {
   "cell_type": "code",
   "execution_count": 9,
   "id": "77a5cc9c",
   "metadata": {},
   "outputs": [],
   "source": [
    "# a= [{1,2,3,4}, {1,6,8,4},{ 9,2,8,3}, {1,2,9,10}]\n",
    "# group_video = set()\n",
    "# for i in range(0,len(a)):\n",
    "# #     group_v = a[i]\n",
    "#     for j in range(i+1,len(a)):\n",
    "#         group_two = a[i] & a[j]\n",
    "#         group_video = group_two | group_video\n",
    "\n",
    "# print(group_video)\n",
    "\n",
    "# group_video = set()\n",
    "# for i in range(0,len(a)):\n",
    "#     for j in range(i+1,len(a)):\n",
    "#         for k in range(j+1,len(a)):\n",
    "#             group_two = a[i] & a[j] & a[k]\n",
    "#             group_video = group_two | group_video\n",
    "\n",
    "# print(group_video)"
   ]
  },
  {
   "cell_type": "code",
   "execution_count": 10,
   "id": "41ba1ce5",
   "metadata": {
    "scrolled": false
   },
   "outputs": [
    {
     "name": "stdout",
     "output_type": "stream",
     "text": [
      "[{0: {78, 174, 133, 70}}, {1: {273, 307, 326}}, {2: {2465, 386}}, {3: {2955, 525, 519}}, {4: {643, 548, 684, 10894, 10905}}, {5: {1088, 742, 841, 817, 788}}, {6: {962, 999, 105706, 927, 1055}}, {7: {1089, 273, 1123}}, {8: {1176, 1281, 11013, 1207}}, {9: {1416, 11026}}]\n"
     ]
    }
   ],
   "source": [
    "# 找出组成员> 8的物品作为组交互物品\n",
    "Group_Video = []\n",
    "for groupid,u in zip(groupMembe[0], groupMembe[1]):\n",
    "    G_user = [int(i) for i in u.split(',')] \n",
    "    U_videos=[]\n",
    "    U_rating = []\n",
    "    \n",
    "    Group_videos = {}\n",
    "    for user in G_user:\n",
    "        u_video = set()\n",
    "        u_rating = set()\n",
    "        index = find_in_list(list_user, user)\n",
    "        for j in index:\n",
    "            u_video.add(list_book[j])\n",
    "            u_rating.add(list_rating[j])\n",
    "        U_videos.append(u_video)\n",
    "        U_rating.append(u_rating)\n",
    "#     print(U_videos) \n",
    "    \n",
    "#     group_video = set()\n",
    "#     for i in range(0,len(U_videos)):   # 每个组成员交互过的book，找出评分大于8的作为组交互数据\n",
    "#         for book, rating in zip(U_videos[i], U_rating[i]):\n",
    "#             if rating > 8:\n",
    "#                 group_video.add(book)\n",
    "# -----------------------------------------------------\n",
    "    group_video = set()\n",
    "#     if len(U_videos) >=5:\n",
    "#         for i in range(0,len(U_videos)):\n",
    "#             for j in range(i+1,len(U_videos)):\n",
    "#                 for k in range(j+1,len(U_videos)):\n",
    "#                     group_two = U_videos[i] & U_videos[j] & U_videos[k]\n",
    "#                     group_video = group_two | group_video\n",
    "#     else:\n",
    "    for i in range(0,len(U_videos)):\n",
    "        for book, rating in zip(U_videos[i], U_rating[i]):\n",
    "                if rating > 9:\n",
    "                    group_video.add(book)\n",
    "        for j in range(i+1,len(U_videos)):\n",
    "            group_two = U_videos[i] & U_videos[j]\n",
    "            group_video = group_two | group_video\n",
    "#     if group_video != set():\n",
    "#         print(groupid, group_video)\n",
    "\n",
    "\n",
    "    Group_videos[groupid]=group_video\n",
    "    Group_Video.append(Group_videos)\n",
    "print(Group_Video[:10])"
   ]
  },
  {
   "cell_type": "code",
   "execution_count": 11,
   "id": "63a43ee1",
   "metadata": {},
   "outputs": [
    {
     "name": "stdout",
     "output_type": "stream",
     "text": [
      "49\n",
      "非空组的数量 2627\n"
     ]
    }
   ],
   "source": [
    "count = 0\n",
    "for i in range(len(Group_Video)): \n",
    "    if((Group_Video[i][i]) == set()):\n",
    "        count+=1\n",
    "#     else:\n",
    "#          print((Group_Video[i][i]))\n",
    "print(count)\n",
    "\n",
    "print(\"非空组的数量\", len(Group_Video) - count )"
   ]
  },
  {
   "cell_type": "code",
   "execution_count": 12,
   "id": "dec831ea",
   "metadata": {},
   "outputs": [],
   "source": [
    "import random\n",
    "# 打乱组序号的顺序\n",
    "random.shuffle(Group_Video)\n",
    "\n",
    "filename = './Book_data/KA_Book/my_group_book1.csv'\n",
    "g_v = []\n",
    "for dic in Group_Video:\n",
    "    g_id = [i for i in dic.keys()]\n",
    "    g_videos= [i for i in  dic.values()]\n",
    "    for g_video in g_videos[0]:\n",
    "        g_v.append((g_id[0], g_video))\n",
    "\n",
    "random.shuffle(g_v)\n",
    "with open(filename,'w') as object:\n",
    "    for i in g_v:\n",
    "        object.write(str(i[0])+\" \")\n",
    "        object.write(str(i[1])+\"\\n\")  "
   ]
  },
  {
   "cell_type": "code",
   "execution_count": 14,
   "id": "490fb3d6",
   "metadata": {},
   "outputs": [],
   "source": [
    "#  找出组交互数据集合，便于抽负项\n",
    "group_book = pd.read_csv(\"./Book_data/KA_Book/my_group_book1.csv\",header=None,sep= ' ')\n",
    "unq_g_v = set()\n",
    "\n",
    "for group,book in zip(group_book[0],group_book[1]):\n",
    "    unq_g_v.add((group,book))"
   ]
  },
  {
   "cell_type": "code",
   "execution_count": 15,
   "id": "34046397",
   "metadata": {
    "scrolled": true
   },
   "outputs": [
    {
     "data": {
      "text/html": [
       "<div>\n",
       "<style scoped>\n",
       "    .dataframe tbody tr th:only-of-type {\n",
       "        vertical-align: middle;\n",
       "    }\n",
       "\n",
       "    .dataframe tbody tr th {\n",
       "        vertical-align: top;\n",
       "    }\n",
       "\n",
       "    .dataframe thead th {\n",
       "        text-align: right;\n",
       "    }\n",
       "</style>\n",
       "<table border=\"1\" class=\"dataframe\">\n",
       "  <thead>\n",
       "    <tr style=\"text-align: right;\">\n",
       "      <th></th>\n",
       "      <th>0</th>\n",
       "      <th>1</th>\n",
       "    </tr>\n",
       "  </thead>\n",
       "  <tbody>\n",
       "    <tr>\n",
       "      <th>0</th>\n",
       "      <td>310</td>\n",
       "      <td>6120</td>\n",
       "    </tr>\n",
       "    <tr>\n",
       "      <th>1</th>\n",
       "      <td>2477</td>\n",
       "      <td>1358</td>\n",
       "    </tr>\n",
       "    <tr>\n",
       "      <th>2</th>\n",
       "      <td>381</td>\n",
       "      <td>2214</td>\n",
       "    </tr>\n",
       "    <tr>\n",
       "      <th>3</th>\n",
       "      <td>98</td>\n",
       "      <td>4699</td>\n",
       "    </tr>\n",
       "    <tr>\n",
       "      <th>4</th>\n",
       "      <td>1317</td>\n",
       "      <td>4381</td>\n",
       "    </tr>\n",
       "    <tr>\n",
       "      <th>...</th>\n",
       "      <td>...</td>\n",
       "      <td>...</td>\n",
       "    </tr>\n",
       "    <tr>\n",
       "      <th>7743</th>\n",
       "      <td>107</td>\n",
       "      <td>15948</td>\n",
       "    </tr>\n",
       "    <tr>\n",
       "      <th>7744</th>\n",
       "      <td>450</td>\n",
       "      <td>51465</td>\n",
       "    </tr>\n",
       "    <tr>\n",
       "      <th>7745</th>\n",
       "      <td>2556</td>\n",
       "      <td>50946</td>\n",
       "    </tr>\n",
       "    <tr>\n",
       "      <th>7746</th>\n",
       "      <td>2641</td>\n",
       "      <td>40776</td>\n",
       "    </tr>\n",
       "    <tr>\n",
       "      <th>7747</th>\n",
       "      <td>2114</td>\n",
       "      <td>23494</td>\n",
       "    </tr>\n",
       "  </tbody>\n",
       "</table>\n",
       "<p>7748 rows × 2 columns</p>\n",
       "</div>"
      ],
      "text/plain": [
       "         0      1\n",
       "0      310   6120\n",
       "1     2477   1358\n",
       "2      381   2214\n",
       "3       98   4699\n",
       "4     1317   4381\n",
       "...    ...    ...\n",
       "7743   107  15948\n",
       "7744   450  51465\n",
       "7745  2556  50946\n",
       "7746  2641  40776\n",
       "7747  2114  23494\n",
       "\n",
       "[7748 rows x 2 columns]"
      ]
     },
     "execution_count": 15,
     "metadata": {},
     "output_type": "execute_result"
    }
   ],
   "source": [
    "group_book"
   ]
  },
  {
   "cell_type": "code",
   "execution_count": 16,
   "id": "12bd1c46",
   "metadata": {},
   "outputs": [
    {
     "data": {
      "text/plain": [
       "2.896448598130841"
      ]
     },
     "execution_count": 16,
     "metadata": {},
     "output_type": "execute_result"
    }
   ],
   "source": [
    "len(unq_g_v)/ max(group_book[0])"
   ]
  },
  {
   "cell_type": "code",
   "execution_count": 17,
   "id": "f37be745",
   "metadata": {},
   "outputs": [
    {
     "data": {
      "text/plain": [
       "5.790201944652207"
      ]
     },
     "execution_count": 17,
     "metadata": {},
     "output_type": "execute_result"
    }
   ],
   "source": [
    "#  平均每个组交互的数\n",
    "# 60403/1297\n",
    "15483 / 2674"
   ]
  },
  {
   "cell_type": "markdown",
   "id": "6a2d5c6d",
   "metadata": {},
   "source": [
    "##  EDA"
   ]
  },
  {
   "cell_type": "code",
   "execution_count": 20,
   "id": "8e34313a",
   "metadata": {},
   "outputs": [
    {
     "data": {
      "text/plain": [
       "array([31, 20, 20, ...,  1,  1,  1], dtype=int64)"
      ]
     },
     "execution_count": 20,
     "metadata": {},
     "output_type": "execute_result"
    }
   ],
   "source": [
    "group_interactions  = group_book[0].value_counts()\n",
    "group_interactions_sorted = group_interactions.sort_values(ascending=False)\n",
    "sorted_group_ids = group_interactions_sorted.index\n",
    "sorted_interactions = group_interactions_sorted.values\n",
    "sorted_interactions"
   ]
  },
  {
   "cell_type": "code",
   "execution_count": 36,
   "id": "a9b0871b",
   "metadata": {},
   "outputs": [
    {
     "name": "stderr",
     "output_type": "stream",
     "text": [
      "The PostScript backend does not support transparency; partially transparent artists will be rendered opaque.\n",
      "The PostScript backend does not support transparency; partially transparent artists will be rendered opaque.\n",
      "The PostScript backend does not support transparency; partially transparent artists will be rendered opaque.\n",
      "The PostScript backend does not support transparency; partially transparent artists will be rendered opaque.\n",
      "The PostScript backend does not support transparency; partially transparent artists will be rendered opaque.\n",
      "The PostScript backend does not support transparency; partially transparent artists will be rendered opaque.\n",
      "The PostScript backend does not support transparency; partially transparent artists will be rendered opaque.\n",
      "The PostScript backend does not support transparency; partially transparent artists will be rendered opaque.\n"
     ]
    },
    {
     "data": {
      "image/png": "[encoded data removed]",
      "text/plain": [
       "<Figure size 600x400 with 1 Axes>"
      ]
     },
     "metadata": {
      "needs_background": "light"
     },
     "output_type": "display_data"
    }
   ],
   "source": [
    "# 绘制柱状图\n",
    "\n",
    "font1 = {'family' : 'Arial',\n",
    "'weight' : 'normal',\n",
    "'size'   : 12,\n",
    "}\n",
    "\n",
    "plt.figure(figsize=(6,4), dpi=100)\n",
    "plt.bar(range(len(sorted_group_ids)), sorted_interactions, color='skyblue')\n",
    "plt.xlabel('Group',font1)\n",
    "plt.ylabel('Number of Interactions', font1)  \n",
    "plt.ylim(0, 15)\n",
    "# plt.title('Number of Interactions per User')\n",
    "plt.xticks([])\n",
    "plt.grid(axis='y', linestyle='--', alpha=0.7)\n",
    "plt.tight_layout()\n",
    "\n",
    "plt.savefig('book_group_bar.eps', format='eps')\n",
    "plt.show()"
   ]
  },
  {
   "cell_type": "code",
   "execution_count": 37,
   "id": "a7eacc38",
   "metadata": {},
   "outputs": [
    {
     "name": "stderr",
     "output_type": "stream",
     "text": [
      "The PostScript backend does not support transparency; partially transparent artists will be rendered opaque.\n"
     ]
    },
    {
     "data": {
      "image/png": "[encoded data removed]",
      "text/plain": [
       "<Figure size 432x288 with 1 Axes>"
      ]
     },
     "metadata": {
      "needs_background": "light"
     },
     "output_type": "display_data"
    }
   ],
   "source": [
    "interactions_counts = group_interactions.values\n",
    "\n",
    "# 绘制箱型图\n",
    "plt.figure(figsize=(6, 4))\n",
    "sns.boxplot(x=interactions_counts)\n",
    "plt.xlabel('Number of Interactions per Group')\n",
    "# plt.title('Distribution of Interactions per Group')\n",
    "plt.grid(axis='y', linestyle='--', alpha=0.7)\n",
    "plt.tight_layout()\n",
    "\n",
    "plt.savefig('book_group_box.eps', format='eps')\n",
    "plt.show()"
   ]
  },
  {
   "cell_type": "markdown",
   "id": "82fbcb9b",
   "metadata": {},
   "source": [
    "## The division of test set and training set"
   ]
  },
  {
   "cell_type": "code",
   "execution_count": 19,
   "id": "49995315",
   "metadata": {},
   "outputs": [],
   "source": [
    "# 抽取测试机，训练集\n",
    "GroupTrain = './Book_data/KA_Book/moocGroupTrain.csv'\n",
    "GroupTest = './Book_data/KA_Book/moocGroupTest.csv'\n",
    "\n",
    "with open(GroupTrain,'w') as object:\n",
    "    for i in g_v[0:int(len(g_v)*0.90)]:\n",
    "        object.write(str(i[0])+\" \")\n",
    "        object.write(str(i[1])+\"\\n\")\n",
    "        \n",
    "with open(GroupTest,'w') as object:\n",
    "    for i in g_v[int(len(g_v)*0.90):]:\n",
    "        object.write(str(i[0])+\" \")\n",
    "        object.write(str(i[1])+\"\\n\")   "
   ]
  },
  {
   "cell_type": "code",
   "execution_count": 20,
   "id": "431d58dc",
   "metadata": {},
   "outputs": [
    {
     "data": {
      "text/html": [
       "<div>\n",
       "<style scoped>\n",
       "    .dataframe tbody tr th:only-of-type {\n",
       "        vertical-align: middle;\n",
       "    }\n",
       "\n",
       "    .dataframe tbody tr th {\n",
       "        vertical-align: top;\n",
       "    }\n",
       "\n",
       "    .dataframe thead th {\n",
       "        text-align: right;\n",
       "    }\n",
       "</style>\n",
       "<table border=\"1\" class=\"dataframe\">\n",
       "  <thead>\n",
       "    <tr style=\"text-align: right;\">\n",
       "      <th></th>\n",
       "      <th>0</th>\n",
       "      <th>1</th>\n",
       "    </tr>\n",
       "  </thead>\n",
       "  <tbody>\n",
       "    <tr>\n",
       "      <th>0</th>\n",
       "      <td>2272</td>\n",
       "      <td>79723</td>\n",
       "    </tr>\n",
       "    <tr>\n",
       "      <th>1</th>\n",
       "      <td>2486</td>\n",
       "      <td>6355</td>\n",
       "    </tr>\n",
       "    <tr>\n",
       "      <th>2</th>\n",
       "      <td>2407</td>\n",
       "      <td>2826</td>\n",
       "    </tr>\n",
       "    <tr>\n",
       "      <th>3</th>\n",
       "      <td>2477</td>\n",
       "      <td>22010</td>\n",
       "    </tr>\n",
       "    <tr>\n",
       "      <th>4</th>\n",
       "      <td>1479</td>\n",
       "      <td>2414</td>\n",
       "    </tr>\n",
       "  </tbody>\n",
       "</table>\n",
       "</div>"
      ],
      "text/plain": [
       "      0      1\n",
       "0  2272  79723\n",
       "1  2486   6355\n",
       "2  2407   2826\n",
       "3  2477  22010\n",
       "4  1479   2414"
      ]
     },
     "execution_count": 20,
     "metadata": {},
     "output_type": "execute_result"
    }
   ],
   "source": [
    "moocGroupTest = pd.read_csv(\"./Book_data/KA_Book/moocGroupTest.csv\", header = None, sep=\" \")\n",
    "user_book[\"ISBN\"].max()    # 111335\n",
    "moocGroupTest[:5]"
   ]
  },
  {
   "cell_type": "code",
   "execution_count": 21,
   "id": "7b7c91ba",
   "metadata": {},
   "outputs": [],
   "source": [
    "f = open('./Book_data/KA_Book/moocGroupNegative.csv','w',encoding='utf-8')\n",
    "for user,video in zip(moocGroupTest[0],moocGroupTest[1]):\n",
    "    text_p = []\n",
    "    text_p.append((user,video))\n",
    "    for i in str(text_p[0]):\n",
    "        if i != ' ':\n",
    "            f.write(i)\n",
    "    for i in range(99):\n",
    "        f.write(' ')\n",
    "        j = np.random.randint(0,user_book[\"ISBN\"].max() + 1)\n",
    "        while (user,j) in unq_g_v: # or j in video_vain\n",
    "            j = np.random.randint(0, user_book[\"ISBN\"].max() + 1)\n",
    "        f.write(str(j))\n",
    "    f.write('\\n')\n",
    "f.close()"
   ]
  },
  {
   "cell_type": "code",
   "execution_count": null,
   "id": "0d3d7efc",
   "metadata": {},
   "outputs": [],
   "source": []
  }
 ],
 "metadata": {
  "kernelspec": {
   "display_name": "Python [conda env:pytorch] *",
   "language": "python",
   "name": "conda-env-pytorch-py"
  },
  "language_info": {
   "codemirror_mode": {
    "name": "ipython",
    "version": 3
   },
   "file_extension": ".py",
   "mimetype": "text/x-python",
   "name": "python",
   "nbconvert_exporter": "python",
   "pygments_lexer": "ipython3",
   "version": "3.6.13"
  }
 },
 "nbformat": 4,
 "nbformat_minor": 5
}
