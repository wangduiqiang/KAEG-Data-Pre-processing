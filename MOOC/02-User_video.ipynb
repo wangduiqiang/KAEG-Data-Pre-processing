{
 "cells": [
  {
   "cell_type": "code",
   "execution_count": 19,
   "id": "91c464cc",
   "metadata": {},
   "outputs": [],
   "source": [
    "import numpy as np\n",
    "import pandas as pd\n",
    "import matplotlib.pyplot as plt\n",
    "import seaborn as sns"
   ]
  },
  {
   "cell_type": "code",
   "execution_count": 2,
   "id": "9753d9db",
   "metadata": {},
   "outputs": [],
   "source": [
    "user_video = pd.read_csv(\"./KA_DATA/my_user_video.csv\",header=None,sep= ' ')"
   ]
  },
  {
   "cell_type": "code",
   "execution_count": 3,
   "id": "3f6d8b30",
   "metadata": {},
   "outputs": [
    {
     "data": {
      "text/html": [
       "<div>\n",
       "<style scoped>\n",
       "    .dataframe tbody tr th:only-of-type {\n",
       "        vertical-align: middle;\n",
       "    }\n",
       "\n",
       "    .dataframe tbody tr th {\n",
       "        vertical-align: top;\n",
       "    }\n",
       "\n",
       "    .dataframe thead th {\n",
       "        text-align: right;\n",
       "    }\n",
       "</style>\n",
       "<table border=\"1\" class=\"dataframe\">\n",
       "  <thead>\n",
       "    <tr style=\"text-align: right;\">\n",
       "      <th></th>\n",
       "      <th>0</th>\n",
       "      <th>1</th>\n",
       "    </tr>\n",
       "  </thead>\n",
       "  <tbody>\n",
       "    <tr>\n",
       "      <th>177797</th>\n",
       "      <td>1</td>\n",
       "      <td>664</td>\n",
       "    </tr>\n",
       "    <tr>\n",
       "      <th>185865</th>\n",
       "      <td>1</td>\n",
       "      <td>713</td>\n",
       "    </tr>\n",
       "    <tr>\n",
       "      <th>171618</th>\n",
       "      <td>1</td>\n",
       "      <td>635</td>\n",
       "    </tr>\n",
       "    <tr>\n",
       "      <th>206728</th>\n",
       "      <td>1</td>\n",
       "      <td>885</td>\n",
       "    </tr>\n",
       "    <tr>\n",
       "      <th>206781</th>\n",
       "      <td>1</td>\n",
       "      <td>886</td>\n",
       "    </tr>\n",
       "    <tr>\n",
       "      <th>...</th>\n",
       "      <td>...</td>\n",
       "      <td>...</td>\n",
       "    </tr>\n",
       "    <tr>\n",
       "      <th>78503</th>\n",
       "      <td>4721</td>\n",
       "      <td>235</td>\n",
       "    </tr>\n",
       "    <tr>\n",
       "      <th>92148</th>\n",
       "      <td>4722</td>\n",
       "      <td>313</td>\n",
       "    </tr>\n",
       "    <tr>\n",
       "      <th>102992</th>\n",
       "      <td>4722</td>\n",
       "      <td>421</td>\n",
       "    </tr>\n",
       "    <tr>\n",
       "      <th>91277</th>\n",
       "      <td>4722</td>\n",
       "      <td>312</td>\n",
       "    </tr>\n",
       "    <tr>\n",
       "      <th>107930</th>\n",
       "      <td>4722</td>\n",
       "      <td>427</td>\n",
       "    </tr>\n",
       "  </tbody>\n",
       "</table>\n",
       "<p>225362 rows × 2 columns</p>\n",
       "</div>"
      ],
      "text/plain": [
       "           0    1\n",
       "177797     1  664\n",
       "185865     1  713\n",
       "171618     1  635\n",
       "206728     1  885\n",
       "206781     1  886\n",
       "...      ...  ...\n",
       "78503   4721  235\n",
       "92148   4722  313\n",
       "102992  4722  421\n",
       "91277   4722  312\n",
       "107930  4722  427\n",
       "\n",
       "[225362 rows x 2 columns]"
      ]
     },
     "execution_count": 3,
     "metadata": {},
     "output_type": "execute_result"
    }
   ],
   "source": [
    "user_video.sort_values(by =0)"
   ]
  },
  {
   "cell_type": "markdown",
   "id": "a55f6e41",
   "metadata": {},
   "source": [
    "##  EDA"
   ]
  },
  {
   "cell_type": "code",
   "execution_count": 4,
   "id": "92c53366",
   "metadata": {},
   "outputs": [
    {
     "data": {
      "text/plain": [
       "2720    848\n",
       "2077    809\n",
       "1133    736\n",
       "2334    726\n",
       "1648    720\n",
       "       ... \n",
       "4015      2\n",
       "1410      2\n",
       "539       2\n",
       "50        2\n",
       "4175      2\n",
       "Name: 0, Length: 4361, dtype: int64"
      ]
     },
     "execution_count": 4,
     "metadata": {},
     "output_type": "execute_result"
    }
   ],
   "source": [
    "user_interactions  = user_video[0].value_counts()\n",
    "user_interactions_sorted = user_interactions.sort_values(ascending=False)\n",
    "user_interactions_sorted"
   ]
  },
  {
   "cell_type": "code",
   "execution_count": 6,
   "id": "1e17d7b2",
   "metadata": {},
   "outputs": [
    {
     "data": {
      "text/plain": [
       "array([848, 809, 736, ...,   2,   2,   2], dtype=int64)"
      ]
     },
     "execution_count": 6,
     "metadata": {},
     "output_type": "execute_result"
    }
   ],
   "source": [
    "sorted_user_ids = user_interactions_sorted.index\n",
    "sorted_interactions = user_interactions_sorted.values\n",
    "sorted_interactions"
   ]
  },
  {
   "cell_type": "code",
   "execution_count": 23,
   "id": "1399f61a",
   "metadata": {},
   "outputs": [
    {
     "name": "stderr",
     "output_type": "stream",
     "text": [
      "The PostScript backend does not support transparency; partially transparent artists will be rendered opaque.\n",
      "The PostScript backend does not support transparency; partially transparent artists will be rendered opaque.\n",
      "The PostScript backend does not support transparency; partially transparent artists will be rendered opaque.\n",
      "The PostScript backend does not support transparency; partially transparent artists will be rendered opaque.\n",
      "The PostScript backend does not support transparency; partially transparent artists will be rendered opaque.\n",
      "The PostScript backend does not support transparency; partially transparent artists will be rendered opaque.\n",
      "The PostScript backend does not support transparency; partially transparent artists will be rendered opaque.\n",
      "The PostScript backend does not support transparency; partially transparent artists will be rendered opaque.\n",
      "The PostScript backend does not support transparency; partially transparent artists will be rendered opaque.\n"
     ]
    },
    {
     "data": {
      "image/png": "[encoded data removed]",
      "text/plain": [
       "<Figure size 600x400 with 1 Axes>"
      ]
     },
     "metadata": {
      "needs_background": "light"
     },
     "output_type": "display_data"
    }
   ],
   "source": [
    "# 绘制柱状图\n",
    "\n",
    "font1 = {'family' : 'Arial',\n",
    "'weight' : 'normal',\n",
    "'size'   : 12,\n",
    "}\n",
    "\n",
    "plt.figure(figsize=(6,4), dpi=100)\n",
    "plt.bar(range(len(sorted_user_ids)), sorted_interactions, color='skyblue')\n",
    "plt.xlabel('User',font1)\n",
    "plt.ylabel('Number of Interactions', font1)\n",
    "# plt.title('Number of Interactions per User')\n",
    "plt.xticks([])\n",
    "plt.grid(axis='y', linestyle='--', alpha=0.7)\n",
    "plt.tight_layout()\n",
    "\n",
    "plt.savefig('mooc_user_bar.eps', format='eps')\n",
    "plt.show()"
   ]
  },
  {
   "cell_type": "code",
   "execution_count": 25,
   "id": "79ec83d4",
   "metadata": {},
   "outputs": [
    {
     "name": "stderr",
     "output_type": "stream",
     "text": [
      "The PostScript backend does not support transparency; partially transparent artists will be rendered opaque.\n"
     ]
    },
    {
     "data": {
      "image/png": "[encoded data removed]",
      "text/plain": [
       "<Figure size 432x288 with 1 Axes>"
      ]
     },
     "metadata": {
      "needs_background": "light"
     },
     "output_type": "display_data"
    }
   ],
   "source": [
    "interactions_counts = user_interactions.values\n",
    "\n",
    "# 绘制箱型图\n",
    "plt.figure(figsize=(6, 4))\n",
    "sns.boxplot(x=interactions_counts)\n",
    "plt.xlabel('Number of Interactions per User')\n",
    "# plt.title('Distribution of Interactions per User')\n",
    "plt.grid(axis='y', linestyle='--', alpha=0.7)\n",
    "plt.tight_layout()\n",
    "\n",
    "plt.savefig('mooc_user_box.eps', format='eps')\n",
    "plt.show()"
   ]
  },
  {
   "cell_type": "markdown",
   "id": "cdef1c68",
   "metadata": {},
   "source": [
    "## The division of test set and training set"
   ]
  },
  {
   "cell_type": "code",
   "execution_count": null,
   "id": "6b478950",
   "metadata": {},
   "outputs": [],
   "source": [
    "# 打乱顺序\n",
    "import random\n",
    "user_video = user_video.sample(frac=1,random_state = 666).reset_index(drop=True)\n",
    "user_video"
   ]
  },
  {
   "cell_type": "code",
   "execution_count": null,
   "id": "b93300af",
   "metadata": {},
   "outputs": [],
   "source": [
    "# Extract test set and training set\n",
    "length = len(user_video[0])\n",
    "len = 0\n",
    "UserTrain = './KA_DATA/moocUserTrain.csv'\n",
    "UserTest = './KA_DATA/moocUserTest.csv'\n",
    "\n",
    "with open(UserTrain,'w') as object:\n",
    "    for user,video in zip(user_video[0],user_video[1]):\n",
    "        len+=1\n",
    "        if len < int(length * 0.90):\n",
    "            object.write(str(user)+\" \")\n",
    "            object.write(str(video)+\"\\n\")\n",
    "    len=0 \n",
    "    \n",
    "with open(UserTest,'w') as object:\n",
    "    for user,video in zip(user_video[0],user_video[1]):\n",
    "        len+=1\n",
    "        if len >= int(length * 0.90):\n",
    "            object.write(str(user)+\" \")\n",
    "            object.write(str(video)+\"\\n\")\n",
    "    len=0   "
   ]
  },
  {
   "cell_type": "code",
   "execution_count": null,
   "id": "5bc0bc73",
   "metadata": {
    "scrolled": true
   },
   "outputs": [],
   "source": [
    "# Generate Negative samples of moocUser test set\n",
    "moocUserTest = pd.read_csv(\"./KA_DATA/moocUserTest.csv\", header = None, sep=\" \")\n",
    "moocUserTest"
   ]
  },
  {
   "cell_type": "code",
   "execution_count": null,
   "id": "7c7a16eb",
   "metadata": {
    "scrolled": true
   },
   "outputs": [],
   "source": [
    "u_v = set()\n",
    "for user,video in zip(user_video[0],user_video[1]):\n",
    "    u_v.add((user,video))\n",
    "    \n",
    "u_v    "
   ]
  },
  {
   "cell_type": "code",
   "execution_count": null,
   "id": "ed422a1c",
   "metadata": {},
   "outputs": [],
   "source": [
    "f = open('./KA_DATA/moocUserNegative.csv','w',encoding='utf-8')\n",
    "for user,video in zip(moocUserTest[0],moocUserTest[1]):\n",
    "    text_p = []\n",
    "    text_p.append((user,video))\n",
    "    for i in str(text_p[0]):\n",
    "        if i != ' ':\n",
    "            f.write(i)\n",
    "    for i in range(99):\n",
    "        f.write(' ')\n",
    "        j = np.random.randint(0, user_video[1].max() + 1)\n",
    "        while (user,j) in u_v: # or j in video_vain\n",
    "            j = np.random.randint(0, user_video[1].max() + 1)\n",
    "        f.write(str(j))\n",
    "    f.write('\\n')\n",
    "f.close()"
   ]
  },
  {
   "cell_type": "code",
   "execution_count": null,
   "id": "d689d644",
   "metadata": {},
   "outputs": [],
   "source": []
  },
  {
   "cell_type": "code",
   "execution_count": null,
   "id": "e0d157b3",
   "metadata": {},
   "outputs": [],
   "source": []
  },
  {
   "cell_type": "code",
   "execution_count": null,
   "id": "158cf67d",
   "metadata": {},
   "outputs": [],
   "source": []
  },
  {
   "cell_type": "code",
   "execution_count": null,
   "id": "d01226f1",
   "metadata": {},
   "outputs": [],
   "source": []
  }
 ],
 "metadata": {
  "kernelspec": {
   "display_name": "Python [conda env:pytorch] *",
   "language": "python",
   "name": "conda-env-pytorch-py"
  },
  "language_info": {
   "codemirror_mode": {
    "name": "ipython",
    "version": 3
   },
   "file_extension": ".py",
   "mimetype": "text/x-python",
   "name": "python",
   "nbconvert_exporter": "python",
   "pygments_lexer": "ipython3",
   "version": "3.6.13"
  }
 },
 "nbformat": 4,
 "nbformat_minor": 5
}
