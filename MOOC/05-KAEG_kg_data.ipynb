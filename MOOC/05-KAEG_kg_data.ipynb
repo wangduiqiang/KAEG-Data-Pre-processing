{
 "cells": [
  {
   "cell_type": "code",
   "execution_count": 1,
   "id": "eaacf5e6",
   "metadata": {},
   "outputs": [],
   "source": [
    "import numpy as np\n",
    "import pandas as pd"
   ]
  },
  {
   "cell_type": "code",
   "execution_count": 2,
   "id": "9c11573d",
   "metadata": {},
   "outputs": [],
   "source": [
    "video_concept = pd.read_csv(\"./KA_DATA/my_video_concept.csv\",header=None,sep= ' ')\n",
    "course_concept = pd.read_csv(\"./KA_DATA/my_course_concept.csv\",header=None,sep= ' ')\n",
    "course_video = pd.read_csv(\"./KA_DATA/my_course_video.csv\",header=None,sep= ' ')\n",
    "school_course = pd.read_csv(\"./KA_DATA/my_school_course.csv\",header=None,sep= ' ')\n",
    "school_teacher = pd.read_csv(\"./KA_DATA/my_school_teacher.csv\",header=None,sep= ' ')\n",
    "teacher_course = pd.read_csv(\"./KA_DATA/my_teacher_course.csv\",header=None,sep= ' ')\n",
    "concept_paper = pd.read_csv(\"./KA_DATA/my_concept_paper.csv\",header=None,sep= ' ')"
   ]
  },
  {
   "cell_type": "code",
   "execution_count": 3,
   "id": "3feb9c03",
   "metadata": {},
   "outputs": [],
   "source": [
    "columns1 = [\"video\", \"concept\"]\n",
    "columns2 = [\"course\", \"concept\"]\n",
    "columns3 = [\"course\", \"video\"]\n",
    "columns4 = [\"school\", \"course\"]\n",
    "columns5 = [\"school\", \"teacher\"]\n",
    "columns6 = [\"teacher\", \"course\"]\n",
    "columns7 = [\"concept\", \"paper\"]\n",
    "# 必须整体全部修改\n",
    "video_concept.columns = columns1\n",
    "course_concept.columns = columns2\n",
    "course_video.columns = columns3\n",
    "school_course.columns = columns4\n",
    "school_teacher.columns = columns5\n",
    "teacher_course.columns = columns6\n",
    "concept_paper.columns = columns7"
   ]
  },
  {
   "cell_type": "code",
   "execution_count": 4,
   "id": "55fa2611",
   "metadata": {},
   "outputs": [
    {
     "data": {
      "text/html": [
       "<div>\n",
       "<style scoped>\n",
       "    .dataframe tbody tr th:only-of-type {\n",
       "        vertical-align: middle;\n",
       "    }\n",
       "\n",
       "    .dataframe tbody tr th {\n",
       "        vertical-align: top;\n",
       "    }\n",
       "\n",
       "    .dataframe thead th {\n",
       "        text-align: right;\n",
       "    }\n",
       "</style>\n",
       "<table border=\"1\" class=\"dataframe\">\n",
       "  <thead>\n",
       "    <tr style=\"text-align: right;\">\n",
       "      <th></th>\n",
       "      <th>course</th>\n",
       "      <th>video</th>\n",
       "    </tr>\n",
       "  </thead>\n",
       "  <tbody>\n",
       "    <tr>\n",
       "      <th>376</th>\n",
       "      <td>14</td>\n",
       "      <td>0</td>\n",
       "    </tr>\n",
       "    <tr>\n",
       "      <th>459</th>\n",
       "      <td>14</td>\n",
       "      <td>83</td>\n",
       "    </tr>\n",
       "    <tr>\n",
       "      <th>458</th>\n",
       "      <td>14</td>\n",
       "      <td>82</td>\n",
       "    </tr>\n",
       "    <tr>\n",
       "      <th>457</th>\n",
       "      <td>14</td>\n",
       "      <td>81</td>\n",
       "    </tr>\n",
       "    <tr>\n",
       "      <th>456</th>\n",
       "      <td>14</td>\n",
       "      <td>80</td>\n",
       "    </tr>\n",
       "    <tr>\n",
       "      <th>...</th>\n",
       "      <td>...</td>\n",
       "      <td>...</td>\n",
       "    </tr>\n",
       "    <tr>\n",
       "      <th>371</th>\n",
       "      <td>696</td>\n",
       "      <td>1382</td>\n",
       "    </tr>\n",
       "    <tr>\n",
       "      <th>372</th>\n",
       "      <td>696</td>\n",
       "      <td>1383</td>\n",
       "    </tr>\n",
       "    <tr>\n",
       "      <th>373</th>\n",
       "      <td>696</td>\n",
       "      <td>1384</td>\n",
       "    </tr>\n",
       "    <tr>\n",
       "      <th>375</th>\n",
       "      <td>696</td>\n",
       "      <td>1386</td>\n",
       "    </tr>\n",
       "    <tr>\n",
       "      <th>918</th>\n",
       "      <td>696</td>\n",
       "      <td>1399</td>\n",
       "    </tr>\n",
       "  </tbody>\n",
       "</table>\n",
       "<p>1591 rows × 2 columns</p>\n",
       "</div>"
      ],
      "text/plain": [
       "     course  video\n",
       "376      14      0\n",
       "459      14     83\n",
       "458      14     82\n",
       "457      14     81\n",
       "456      14     80\n",
       "..      ...    ...\n",
       "371     696   1382\n",
       "372     696   1383\n",
       "373     696   1384\n",
       "375     696   1386\n",
       "918     696   1399\n",
       "\n",
       "[1591 rows x 2 columns]"
      ]
     },
     "execution_count": 4,
     "metadata": {},
     "output_type": "execute_result"
    }
   ],
   "source": [
    "video_concept.sort_values(by = \"concept\")\n",
    "course_video.sort_values(by = \"course\")"
   ]
  },
  {
   "cell_type": "code",
   "execution_count": 5,
   "id": "0664996e",
   "metadata": {},
   "outputs": [
    {
     "name": "stdout",
     "output_type": "stream",
     "text": [
      "True True False\n",
      "False False False\n"
     ]
    }
   ],
   "source": [
    "video_concept_paper = pd.merge(video_concept, concept_paper, how='left', on=[\"concept\"])\n",
    "video_course_teacher = pd.merge(course_video, teacher_course, how='left', on=[\"course\"])\n",
    "video_course_school = pd.merge(course_video, school_course, how='left', on=[\"course\"])\n",
    "print(np.any(video_concept_paper.isnull()),np.any(video_course_teacher.isnull()),np.any(video_course_school.isnull())) \n",
    "# 找出有空缺值的行\n",
    "# print(video_concept_paper[video_concept_paper.isnull().T.any()])\n",
    "\n",
    "#删除空行\n",
    "video_concept_paper = video_concept_paper.dropna()\n",
    "video_course_teacher = video_course_teacher.dropna()\n",
    "video_course_school = video_course_school.dropna()\n",
    "#删除缺失行\n",
    "video_concept_paper = video_concept_paper.dropna() \n",
    "video_course_teacher = video_course_teacher.dropna() \n",
    "video_course_school = video_course_school.dropna() \n",
    "\n",
    "print(np.any(video_concept_paper.isnull()),np.any(video_course_teacher.isnull()),np.any(video_course_school.isnull())) "
   ]
  },
  {
   "cell_type": "code",
   "execution_count": 6,
   "id": "2efc6b3b",
   "metadata": {},
   "outputs": [
    {
     "name": "stdout",
     "output_type": "stream",
     "text": [
      "32321\n",
      "2705\n",
      "1242\n"
     ]
    }
   ],
   "source": [
    "# 去掉video,paper中的重复部分\n",
    "video_paper=set()\n",
    "for video,paper in zip(video_concept_paper[\"video\"],video_concept_paper[\"paper\"]):\n",
    "    video_paper.add((video,paper)) \n",
    "print(len(video_paper))\n",
    "\n",
    "video_teacher=set()\n",
    "for video,teacher in zip(video_course_teacher[\"video\"],video_course_teacher[\"teacher\"]):\n",
    "    video_teacher.add((video,teacher)) \n",
    "print(len(video_teacher))\n",
    "\n",
    "video_school=set()\n",
    "for video,school in zip(video_course_school[\"video\"],video_course_school[\"school\"]):\n",
    "    video_school.add((video,school)) \n",
    "print(len(video_school))"
   ]
  },
  {
   "cell_type": "code",
   "execution_count": 7,
   "id": "34a6983a",
   "metadata": {},
   "outputs": [],
   "source": [
    "# 写入文件\n",
    "# user:4723, course:706, video:1401, concept:700, teacher:1733, school:194, paper:5927\n",
    "filename = './KA_DATA/mooc_kg_video.csv'\n",
    "with open(filename,'w') as object:\n",
    "    for i,j in zip(video_concept[\"video\"],video_concept['concept']):\n",
    "        object.write(str(i) + \"\\t0\\t\" + str(j+1401))        # video - 0 - concept\n",
    "        object.write('\\n')\n",
    "    for i,j in zip(course_video[\"video\"],course_video[\"course\"]):\n",
    "        object.write(str(i ) + \"\\t1\\t\" + str(j + 700 + 1401))        # course - 1 - video\n",
    "        object.write('\\n')\n",
    "        \n",
    "    for i,j in zip(course_concept[\"course\"],course_concept['concept']):\n",
    "        object.write(str(i + 700 + 1401) + \"\\t2\\t\" + str(j + 1401))        # course - 2 - concept\n",
    "        object.write('\\n')\n",
    "    for i,j in zip(teacher_course[\"teacher\"],teacher_course[\"course\"]):\n",
    "        object.write(str(i + 700+ 1401 + 706) + \"\\t3\\t\" + str(j + 700+ 1401))                    # teacher - 3 - course\n",
    "        object.write('\\n')  \n",
    "        \n",
    "    for i,j in zip(school_course[\"school\"],school_course[\"course\"]):\n",
    "        object.write(str(i + 700+ 1401 + 706 + 1733) + \"\\t4\\t\" + str(j + 700+ 1401))                    # school - 4 - course\n",
    "        object.write('\\n')\n",
    "        \n",
    "    for i,j in zip(school_teacher[\"school\"],school_teacher[\"teacher\"]):\n",
    "        object.write(str(i + 700+ 1401 + 706 + 1733) + \"\\t5\\t\" + str(j + 700 + 1401 + 706))                    # school - 5 - teacher\n",
    "        object.write('\\n')\n",
    "\n",
    "    for i,j in video_paper:\n",
    "        object.write(str(i) + \"\\t6\\t\" + str(int(j) + 700+ 1401 + 706 + 1733 + 194))                    # video - 7 - paper\n",
    "        object.write('\\n')\n",
    "    for i,j in video_teacher:\n",
    "        object.write(str(i) + \"\\t7\\t\" + str(int(j) + 700+ 1401 + 706))                    # video - 8 - teacher\n",
    "        object.write('\\n')\n",
    "    for i,j in video_school:\n",
    "        object.write(str(i) + \"\\t8\\t\" + str(j + 700+ 1401 + 706 + 1733))                    # video - 9 - school\n",
    "        object.write('\\n')\n",
    "    for i,j in zip(concept_paper[\"concept\"],concept_paper['paper']):\n",
    "        object.write(str(i + 1401) + \"\\t9\\t\" + str(j + 700+ 1401 + 706 + 1733 + 194))                    # concept -10 - paper\n",
    "        object.write('\\n')"
   ]
  },
  {
   "cell_type": "code",
   "execution_count": null,
   "id": "d97d218e",
   "metadata": {},
   "outputs": [],
   "source": []
  },
  {
   "cell_type": "code",
   "execution_count": null,
   "id": "68310f24",
   "metadata": {},
   "outputs": [],
   "source": []
  }
 ],
 "metadata": {
  "kernelspec": {
   "display_name": "Python [conda env:pytorch] *",
   "language": "python",
   "name": "conda-env-pytorch-py"
  },
  "language_info": {
   "codemirror_mode": {
    "name": "ipython",
    "version": 3
   },
   "file_extension": ".py",
   "mimetype": "text/x-python",
   "name": "python",
   "nbconvert_exporter": "python",
   "pygments_lexer": "ipython3",
   "version": "3.6.13"
  }
 },
 "nbformat": 4,
 "nbformat_minor": 5
}
